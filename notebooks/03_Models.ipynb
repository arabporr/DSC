{
 "cells": [
  {
   "cell_type": "code",
   "execution_count": null,
   "id": "e36e027f",
   "metadata": {},
   "outputs": [],
   "source": [
    "import time\n",
    "import pandas as pd\n",
    "import numpy as np\n",
    "import matplotlib.pyplot as plt\n",
    "\n",
    "from rich.progress import track\n",
    "\n",
    "from sklearn.feature_selection import SelectKBest, mutual_info_regression\n",
    "from sklearn.decomposition import PCA\n",
    "from sklearn.model_selection import GridSearchCV\n",
    "from sklearn.metrics import root_mean_squared_error\n",
    "\n",
    "from sklearn.linear_model import LinearRegression, Ridge\n",
    "from sklearn.ensemble import RandomForestRegressor\n",
    "from xgboost import XGBRegressor\n",
    "from sklearn.svm import SVR\n",
    "from sklearn.neighbors import KNeighborsRegressor\n",
    "from sklearn.neural_network import MLPRegressor"
   ]
  },
  {
   "cell_type": "code",
   "execution_count": null,
   "id": "69e98ff2",
   "metadata": {},
   "outputs": [],
   "source": []
  },
  {
   "cell_type": "markdown",
   "id": "9f784fe6",
   "metadata": {},
   "source": [
    "## Data loading"
   ]
  },
  {
   "cell_type": "code",
   "execution_count": 2,
   "id": "73d6eb5d",
   "metadata": {},
   "outputs": [],
   "source": [
    "training_data = pd.read_csv('../data/training_data.csv')\n",
    "test_data = pd.read_csv('../data/testing_data.csv')\n",
    "\n",
    "X_train = training_data.iloc[:, :-1]\n",
    "y_train = training_data.iloc[:, -1]\n",
    "X_test = test_data.iloc[:, :-1]\n",
    "y_test = test_data.iloc[:, -1]"
   ]
  },
  {
   "cell_type": "code",
   "execution_count": 32,
   "id": "cdea8d17",
   "metadata": {},
   "outputs": [
    {
     "name": "stdout",
     "output_type": "stream",
     "text": [
      "         stock_price  strike_price  time_to_maturity  interest_rate  \\\n",
      "count  107100.000000      107100.0     107100.000000  107100.000000   \n",
      "mean       -0.000788           0.0          0.000985      -0.002128   \n",
      "std         0.999031           0.0          0.999816       0.999851   \n",
      "min        -1.698416           0.0         -1.215881      -1.286384   \n",
      "25%        -0.883176           0.0         -0.947531      -0.826961   \n",
      "50%         0.000000           0.0          0.010862      -0.061256   \n",
      "75%         0.883176           0.0          0.649790       0.704448   \n",
      "max         1.698416           0.0          1.927648       1.470153   \n",
      "\n",
      "          volatility  dividend_yield       1_over_T          log_T  \\\n",
      "count  107100.000000   107100.000000  107100.000000  107100.000000   \n",
      "mean        0.000416       -0.001421      -0.001447       0.001421   \n",
      "std         1.000753        1.000701       0.998478       0.999164   \n",
      "min        -1.249390       -1.463850      -0.549325      -2.131798   \n",
      "25%        -0.858956       -0.878310      -0.512426      -0.671972   \n",
      "50%        -0.078087       -0.292770      -0.466303       0.432344   \n",
      "75%         0.702782        0.878310      -0.051197       0.755336   \n",
      "max         1.483651        1.463850       2.854551       1.162257   \n",
      "\n",
      "              sqrt_T        log1p_T  ...  \\\n",
      "count  107100.000000  107100.000000  ...   \n",
      "mean        0.001219       0.001228  ...   \n",
      "std         0.999534       0.999541  ...   \n",
      "min        -1.607082      -1.559374  ...   \n",
      "25%        -0.914853      -0.969502  ...   \n",
      "50%         0.238861       0.275135  ...   \n",
      "75%         0.757444       0.791707  ...   \n",
      "max         1.579798       1.519773  ...   \n",
      "\n",
      "       dividend_yield_over_interest_times_interest_rate_over_volatility  \\\n",
      "count                                      107100.000000                  \n",
      "mean                                            0.000672                  \n",
      "std                                             1.002408                  \n",
      "min                                            -0.849597                  \n",
      "25%                                            -0.641533                  \n",
      "50%                                            -0.433468                  \n",
      "75%                                             0.190726                  \n",
      "max                                             3.311696                  \n",
      "\n",
      "       dividend_yield_over_interest_times_dividend_yield_over_volatility  \\\n",
      "count                                      107100.000000                   \n",
      "mean                                            0.002024                   \n",
      "std                                             1.002335                   \n",
      "min                                            -0.457952                   \n",
      "25%                                            -0.435707                   \n",
      "50%                                            -0.324483                   \n",
      "75%                                            -0.040860                   \n",
      "max                                             7.883903                   \n",
      "\n",
      "       dividend_yield_over_interest_times_stock_price_over_volatility  \\\n",
      "count                                      107100.000000                \n",
      "mean                                            0.001969                \n",
      "std                                             1.004918                \n",
      "min                                            -0.517476                \n",
      "25%                                            -0.467015                \n",
      "50%                                            -0.340517                \n",
      "75%                                             0.013403                \n",
      "max                                             9.851251                \n",
      "\n",
      "       stock_price_over_interest_times_interest_rate_over_volatility  \\\n",
      "count                                      107100.000000               \n",
      "mean                                           -0.001065               \n",
      "std                                             0.997789               \n",
      "min                                            -0.966835               \n",
      "25%                                            -0.715225               \n",
      "50%                                            -0.442647               \n",
      "75%                                             0.479923               \n",
      "max                                             3.051936               \n",
      "\n",
      "       stock_price_over_interest_times_dividend_yield_over_volatility  \\\n",
      "count                                      107100.000000                \n",
      "mean                                            0.001969                \n",
      "std                                             1.004918                \n",
      "min                                            -0.517476                \n",
      "25%                                            -0.467015                \n",
      "50%                                            -0.340517                \n",
      "75%                                             0.013403                \n",
      "max                                             9.851251                \n",
      "\n",
      "       stock_price_over_interest_times_stock_price_over_volatility  \\\n",
      "count                                      107100.000000             \n",
      "mean                                            0.001684             \n",
      "std                                             1.003749             \n",
      "min                                            -0.580186             \n",
      "25%                                            -0.491998             \n",
      "50%                                            -0.347170             \n",
      "75%                                             0.041965             \n",
      "max                                             7.589146             \n",
      "\n",
      "       interest_rate_over_volatility_times_dividend_yield_over_volatility  \\\n",
      "count                                      107100.000000                    \n",
      "mean                                           -0.000962                    \n",
      "std                                             0.999149                    \n",
      "min                                            -0.450090                    \n",
      "25%                                            -0.439451                    \n",
      "50%                                            -0.386254                    \n",
      "75%                                            -0.130909                    \n",
      "max                                             5.933540                    \n",
      "\n",
      "       interest_rate_over_volatility_times_stock_price_over_volatility  \\\n",
      "count                                      107100.000000                 \n",
      "mean                                           -0.003104                 \n",
      "std                                             0.994460                 \n",
      "min                                            -0.539460                 \n",
      "25%                                            -0.506401                 \n",
      "50%                                            -0.434272                 \n",
      "75%                                            -0.023135                 \n",
      "max                                             5.227877                 \n",
      "\n",
      "       dividend_yield_over_volatility_times_stock_price_over_volatility  \\\n",
      "count                                      107100.000000                  \n",
      "mean                                           -0.000016                  \n",
      "std                                             0.999869                  \n",
      "min                                            -0.525098                  \n",
      "25%                                            -0.500410                  \n",
      "50%                                            -0.439899                  \n",
      "75%                                            -0.021649                  \n",
      "max                                             5.283929                  \n",
      "\n",
      "       option_type_put  \n",
      "count    107100.000000  \n",
      "mean          0.500626  \n",
      "std           0.500002  \n",
      "min           0.000000  \n",
      "25%           0.000000  \n",
      "50%           1.000000  \n",
      "75%           1.000000  \n",
      "max           1.000000  \n",
      "\n",
      "[8 rows x 191 columns]\n"
     ]
    }
   ],
   "source": [
    "print(X_train.describe())"
   ]
  },
  {
   "cell_type": "code",
   "execution_count": null,
   "id": "3fc03683",
   "metadata": {},
   "outputs": [],
   "source": []
  },
  {
   "cell_type": "markdown",
   "id": "afe6e731",
   "metadata": {},
   "source": [
    "## Data preparation"
   ]
  },
  {
   "cell_type": "code",
   "execution_count": 4,
   "id": "083eef6e",
   "metadata": {},
   "outputs": [],
   "source": [
    "# Dropping columns with no change in values\n",
    "Columns_variance_filter = X_train.loc[:, X_train.var() > 1e-2].columns.tolist()\n",
    "\n",
    "# Dropping columns with low correlation to the target variable\n",
    "df = X_train.copy()\n",
    "df[\"y\"] = y_train\n",
    "corr = df.corr()\n",
    "Columns_correlation_filter = corr[\"y\"].abs()[corr[\"y\"].abs() > 0.05].index.tolist()\n",
    "\n",
    "# Selecting top 40 features using mutual information regression\n",
    "Feature_selection = SelectKBest(mutual_info_regression, k=40).fit(X_train, y_train)\n",
    "Top_40_columns = X_train.columns[Feature_selection.get_support(indices=True)]\n",
    "\n",
    "top_variables = set(Top_40_columns).intersection(set(Columns_variance_filter).intersection(set(Columns_correlation_filter)))\n",
    "\n",
    "X_train_top_vars = X_train[list(top_variables)]\n",
    "X_test_top_vars = X_test[list(top_variables)]"
   ]
  },
  {
   "cell_type": "code",
   "execution_count": 5,
   "id": "3c7abdb6",
   "metadata": {},
   "outputs": [
    {
     "name": "stdout",
     "output_type": "stream",
     "text": [
      "Number of components to explain 0.98 variance: 22\n"
     ]
    }
   ],
   "source": [
    "pca_full = PCA(random_state=2025)\n",
    "pca_full.fit(X_train)\n",
    "cum_var = np.cumsum(pca_full.explained_variance_ratio_)\n",
    "\n",
    "Var_threshold = 0.98\n",
    "Number_of_components = np.where(cum_var > Var_threshold)[0][0]\n",
    "print(\n",
    "    f\"Number of components to explain {Var_threshold} variance: {Number_of_components}\"\n",
    ")\n",
    "\n",
    "pca = PCA(n_components=Number_of_components, random_state=2025)\n",
    "X_train_pca = pca.fit_transform(X_train)\n",
    "X_test_pca = pca.transform(X_test)\n",
    "\n",
    "# Plotting the explained variance ratio\n",
    "# plt.figure(figsize=(8, 4))\n",
    "# plt.plot(range(1, len(cum_var) + 1), cum_var)\n",
    "# plt.xlabel(\"Number of Principal Components\")\n",
    "# plt.ylabel(\"Cumulative Explained Variance\")\n",
    "# plt.title(\"PCA: How Much Variance vs. # Components\")\n",
    "# plt.grid(True)\n",
    "# plt.tight_layout()\n",
    "# plt.show()"
   ]
  },
  {
   "cell_type": "code",
   "execution_count": null,
   "id": "d5854ea2",
   "metadata": {},
   "outputs": [],
   "source": []
  },
  {
   "cell_type": "code",
   "execution_count": null,
   "id": "cca1d41b",
   "metadata": {},
   "outputs": [],
   "source": []
  },
  {
   "cell_type": "code",
   "execution_count": null,
   "id": "3579f641",
   "metadata": {},
   "outputs": [],
   "source": []
  },
  {
   "cell_type": "code",
   "execution_count": 6,
   "id": "01b86728",
   "metadata": {},
   "outputs": [],
   "source": [
    "data_modes = {\n",
    "    \"all_variables\": {\n",
    "        \"X_train\": X_train,\n",
    "        \"X_test\": X_test,\n",
    "    },\n",
    "    \"top_vars\": {\n",
    "        \"X_train\": X_train_top_vars,\n",
    "        \"X_test\": X_test_top_vars,\n",
    "    },\n",
    "    \"pca\": {\n",
    "        \"X_train\": X_train_pca,\n",
    "        \"X_test\": X_test_pca,\n",
    "    },\n",
    "}"
   ]
  },
  {
   "cell_type": "code",
   "execution_count": 7,
   "id": "fe9bc368",
   "metadata": {},
   "outputs": [],
   "source": [
    "results = []\n",
    "detailed_results = []"
   ]
  },
  {
   "cell_type": "code",
   "execution_count": 10,
   "id": "7a288908",
   "metadata": {},
   "outputs": [
    {
     "data": {
      "application/vnd.jupyter.widget-view+json": {
       "model_id": "29eab890b2b34065b344fed71ea98909",
       "version_major": 2,
       "version_minor": 0
      },
      "text/plain": [
       "Output()"
      ]
     },
     "metadata": {},
     "output_type": "display_data"
    },
    {
     "data": {
      "text/html": [
       "<pre style=\"white-space:pre;overflow-x:auto;line-height:normal;font-family:Menlo,'DejaVu Sans Mono',consolas,'Courier New',monospace\">Fitting 3 folds for each of 2 candidates, totalling 6 fits\n",
       "</pre>\n"
      ],
      "text/plain": [
       "Fitting 3 folds for each of 2 candidates, totalling 6 fits\n"
      ]
     },
     "metadata": {},
     "output_type": "display_data"
    },
    {
     "name": "stdout",
     "output_type": "stream",
     "text": [
      "Running linear_models family:\n",
      "\n"
     ]
    },
    {
     "data": {
      "text/html": [
       "<pre style=\"white-space:pre;overflow-x:auto;line-height:normal;font-family:Menlo,'DejaVu Sans Mono',consolas,'Courier New',monospace\">Fitting 3 folds for each of 2 candidates, totalling 6 fits\n",
       "</pre>\n"
      ],
      "text/plain": [
       "Fitting 3 folds for each of 2 candidates, totalling 6 fits\n"
      ]
     },
     "metadata": {},
     "output_type": "display_data"
    },
    {
     "data": {
      "text/html": [
       "<pre style=\"white-space:pre;overflow-x:auto;line-height:normal;font-family:Menlo,'DejaVu Sans Mono',consolas,'Courier New',monospace\">Fitting 3 folds for each of 2 candidates, totalling 6 fits\n",
       "</pre>\n"
      ],
      "text/plain": [
       "Fitting 3 folds for each of 2 candidates, totalling 6 fits\n"
      ]
     },
     "metadata": {},
     "output_type": "display_data"
    },
    {
     "data": {
      "text/html": [
       "<pre style=\"white-space:pre;overflow-x:auto;line-height:normal;font-family:Menlo,'DejaVu Sans Mono',consolas,'Courier New',monospace\"></pre>\n"
      ],
      "text/plain": []
     },
     "metadata": {},
     "output_type": "display_data"
    },
    {
     "data": {
      "application/vnd.jupyter.widget-view+json": {
       "model_id": "55f538a237cb44fa9067437754c23d0e",
       "version_major": 2,
       "version_minor": 0
      },
      "text/plain": [
       "Output()"
      ]
     },
     "metadata": {},
     "output_type": "display_data"
    },
    {
     "data": {
      "text/html": [
       "<pre style=\"white-space:pre;overflow-x:auto;line-height:normal;font-family:Menlo,'DejaVu Sans Mono',consolas,'Courier New',monospace\">Fitting 3 folds for each of 3 candidates, totalling 9 fits\n",
       "</pre>\n"
      ],
      "text/plain": [
       "Fitting 3 folds for each of 3 candidates, totalling 9 fits\n"
      ]
     },
     "metadata": {},
     "output_type": "display_data"
    },
    {
     "data": {
      "text/html": [
       "<pre style=\"white-space:pre;overflow-x:auto;line-height:normal;font-family:Menlo,'DejaVu Sans Mono',consolas,'Courier New',monospace\">Fitting 3 folds for each of 3 candidates, totalling 9 fits\n",
       "</pre>\n"
      ],
      "text/plain": [
       "Fitting 3 folds for each of 3 candidates, totalling 9 fits\n"
      ]
     },
     "metadata": {},
     "output_type": "display_data"
    },
    {
     "data": {
      "text/html": [
       "<pre style=\"white-space:pre;overflow-x:auto;line-height:normal;font-family:Menlo,'DejaVu Sans Mono',consolas,'Courier New',monospace\">Fitting 3 folds for each of 3 candidates, totalling 9 fits\n",
       "</pre>\n"
      ],
      "text/plain": [
       "Fitting 3 folds for each of 3 candidates, totalling 9 fits\n"
      ]
     },
     "metadata": {},
     "output_type": "display_data"
    },
    {
     "data": {
      "text/html": [
       "<pre style=\"white-space:pre;overflow-x:auto;line-height:normal;font-family:Menlo,'DejaVu Sans Mono',consolas,'Courier New',monospace\"></pre>\n"
      ],
      "text/plain": []
     },
     "metadata": {},
     "output_type": "display_data"
    }
   ],
   "source": [
    "family_name = \"linear_models\"\n",
    "print(f\"Running {family_name} family:\\n\")\n",
    "\n",
    "\n",
    "linear_models = {\n",
    "    \"LinearRegression\": {\n",
    "        \"model\": LinearRegression(),\n",
    "        \"grid\": {\"fit_intercept\": [True, False]},\n",
    "    },\n",
    "    \"Ridge\": {\"model\": Ridge(), \"grid\": {\"alpha\": [0.1, 1.0, 10.0]}},\n",
    "}\n",
    "\n",
    "for model_name, settings in linear_models.items():\n",
    "    for data_mode, data in track(\n",
    "        data_modes.items(),\n",
    "        description=f\"Running different data modes for {model_name} model:\",\n",
    "    ):\n",
    "        X_train_temp = data_modes[data_mode][\"X_train\"]\n",
    "        X_test_temp = data_modes[data_mode][\"X_test\"]\n",
    "\n",
    "        model = settings[\"model\"]\n",
    "        param_grid = settings[\"grid\"]\n",
    "        gs = GridSearchCV(\n",
    "            estimator=model,\n",
    "            param_grid=param_grid,\n",
    "            scoring=\"neg_root_mean_squared_error\",\n",
    "            cv=3,\n",
    "            n_jobs=-1,\n",
    "            verbose=10,\n",
    "        )\n",
    "\n",
    "        start = time.time()\n",
    "        gs.fit(X_train_temp, y_train)\n",
    "        elapsed = time.time() - start\n",
    "\n",
    "        best = gs.best_estimator_\n",
    "        train_rmse = root_mean_squared_error(y_train, best.predict(X_train_temp))\n",
    "        test_rmse = root_mean_squared_error(y_test, best.predict(X_test_temp))\n",
    "\n",
    "        detailed_results.append(\n",
    "            {\n",
    "                \"family\": family_name,\n",
    "                \"model\": model_name,\n",
    "                \"data_mode\": data_mode,\n",
    "                \"gs_object\": gs,\n",
    "                \"best_estimator\": best,\n",
    "            }\n",
    "        )\n",
    "\n",
    "        results.append(\n",
    "            {\n",
    "                \"family\": family_name,\n",
    "                \"model\": model_name,\n",
    "                \"data_mode\": data_mode,\n",
    "                \"train_rmse\": train_rmse,\n",
    "                \"test_rmse\": test_rmse,\n",
    "                \"time_s\": elapsed,\n",
    "            }\n",
    "        )"
   ]
  },
  {
   "cell_type": "code",
   "execution_count": 11,
   "id": "7dfb2e81",
   "metadata": {},
   "outputs": [
    {
     "data": {
      "application/vnd.jupyter.widget-view+json": {
       "model_id": "0c85cf4c3d2b40c3bb4de9c3fecd4d1c",
       "version_major": 2,
       "version_minor": 0
      },
      "text/plain": [
       "Output()"
      ]
     },
     "metadata": {},
     "output_type": "display_data"
    },
    {
     "data": {
      "text/html": [
       "<pre style=\"white-space:pre;overflow-x:auto;line-height:normal;font-family:Menlo,'DejaVu Sans Mono',consolas,'Courier New',monospace\">Fitting 3 folds for each of 4 candidates, totalling 12 fits\n",
       "</pre>\n"
      ],
      "text/plain": [
       "Fitting 3 folds for each of 4 candidates, totalling 12 fits\n"
      ]
     },
     "metadata": {},
     "output_type": "display_data"
    },
    {
     "name": "stdout",
     "output_type": "stream",
     "text": [
      "Running tree_models family:\n",
      "\n",
      "Running RandomForestRegressor model:\n",
      "\n"
     ]
    },
    {
     "data": {
      "text/html": [
       "<pre style=\"white-space:pre;overflow-x:auto;line-height:normal;font-family:Menlo,'DejaVu Sans Mono',consolas,'Courier New',monospace\">Fitting 3 folds for each of 4 candidates, totalling 12 fits\n",
       "</pre>\n"
      ],
      "text/plain": [
       "Fitting 3 folds for each of 4 candidates, totalling 12 fits\n"
      ]
     },
     "metadata": {},
     "output_type": "display_data"
    },
    {
     "data": {
      "text/html": [
       "<pre style=\"white-space:pre;overflow-x:auto;line-height:normal;font-family:Menlo,'DejaVu Sans Mono',consolas,'Courier New',monospace\">Fitting 3 folds for each of 4 candidates, totalling 12 fits\n",
       "</pre>\n"
      ],
      "text/plain": [
       "Fitting 3 folds for each of 4 candidates, totalling 12 fits\n"
      ]
     },
     "metadata": {},
     "output_type": "display_data"
    },
    {
     "data": {
      "text/html": [
       "<pre style=\"white-space:pre;overflow-x:auto;line-height:normal;font-family:Menlo,'DejaVu Sans Mono',consolas,'Courier New',monospace\"></pre>\n"
      ],
      "text/plain": []
     },
     "metadata": {},
     "output_type": "display_data"
    },
    {
     "data": {
      "application/vnd.jupyter.widget-view+json": {
       "model_id": "694a4cd6036f486aa01b34f5b714b894",
       "version_major": 2,
       "version_minor": 0
      },
      "text/plain": [
       "Output()"
      ]
     },
     "metadata": {},
     "output_type": "display_data"
    },
    {
     "data": {
      "text/html": [
       "<pre style=\"white-space:pre;overflow-x:auto;line-height:normal;font-family:Menlo,'DejaVu Sans Mono',consolas,'Courier New',monospace\">Fitting 3 folds for each of 8 candidates, totalling 24 fits\n",
       "</pre>\n"
      ],
      "text/plain": [
       "Fitting 3 folds for each of 8 candidates, totalling 24 fits\n"
      ]
     },
     "metadata": {},
     "output_type": "display_data"
    },
    {
     "name": "stdout",
     "output_type": "stream",
     "text": [
      "Running XGBRegressor model:\n",
      "\n"
     ]
    },
    {
     "data": {
      "text/html": [
       "<pre style=\"white-space:pre;overflow-x:auto;line-height:normal;font-family:Menlo,'DejaVu Sans Mono',consolas,'Courier New',monospace\">Fitting 3 folds for each of 8 candidates, totalling 24 fits\n",
       "</pre>\n"
      ],
      "text/plain": [
       "Fitting 3 folds for each of 8 candidates, totalling 24 fits\n"
      ]
     },
     "metadata": {},
     "output_type": "display_data"
    },
    {
     "data": {
      "text/html": [
       "<pre style=\"white-space:pre;overflow-x:auto;line-height:normal;font-family:Menlo,'DejaVu Sans Mono',consolas,'Courier New',monospace\">Fitting 3 folds for each of 8 candidates, totalling 24 fits\n",
       "</pre>\n"
      ],
      "text/plain": [
       "Fitting 3 folds for each of 8 candidates, totalling 24 fits\n"
      ]
     },
     "metadata": {},
     "output_type": "display_data"
    },
    {
     "data": {
      "text/html": [
       "<pre style=\"white-space:pre;overflow-x:auto;line-height:normal;font-family:Menlo,'DejaVu Sans Mono',consolas,'Courier New',monospace\"></pre>\n"
      ],
      "text/plain": []
     },
     "metadata": {},
     "output_type": "display_data"
    }
   ],
   "source": [
    "family_name = \"tree_models\"\n",
    "print(f\"Running {family_name} family:\\n\")\n",
    "\n",
    "\n",
    "tree_models = {\n",
    "    \"RandomForestRegressor\": {\n",
    "        \"model\": RandomForestRegressor(random_state=2025),\n",
    "        \"grid\": {\"n_estimators\": [10, 40], \"max_depth\": [5, 10]},\n",
    "    },\n",
    "    \"XGBRegressor\": {\n",
    "        \"model\": XGBRegressor(tree_method=\"hist\", random_state=2025, verbosity=1),\n",
    "        \"grid\": {\n",
    "            \"n_estimators\": [10, 40],\n",
    "            \"learning_rate\": [0.01, 0.1],\n",
    "            \"max_depth\": [2, 6],\n",
    "        },\n",
    "    },\n",
    "}\n",
    "\n",
    "for model_name, settings in tree_models.items():\n",
    "    print(f\"Running {model_name} model:\\n\")\n",
    "    for data_mode, data in track(\n",
    "        data_modes.items(),\n",
    "        description=f\"Running different data modes for {model_name} model:\",\n",
    "    ):\n",
    "        # if data_mode == \"all_variables\":\n",
    "        #     #skipping this combination as it takes too long\n",
    "        #     continue\n",
    "\n",
    "        X_train_temp = data_modes[data_mode][\"X_train\"]\n",
    "        X_test_temp = data_modes[data_mode][\"X_test\"]\n",
    "\n",
    "        model = settings[\"model\"]\n",
    "        param_grid = settings[\"grid\"]\n",
    "        gs = GridSearchCV(\n",
    "            estimator=model,\n",
    "            param_grid=param_grid,\n",
    "            scoring=\"neg_root_mean_squared_error\",\n",
    "            cv=3,\n",
    "            n_jobs=-1,\n",
    "            verbose=10,\n",
    "        )\n",
    "\n",
    "        start = time.time()\n",
    "        if data_mode == \"all_variables\":\n",
    "            # sampling 40% of the data for faster computation\n",
    "            ratio = 0.4\n",
    "            full_len = len(X_train_temp)\n",
    "            sample_size = int(ratio*full_len)\n",
    "            sample_indices = np.random.choice(full_len, size=sample_size , replace=False)\n",
    "            gs.fit(X_train_temp.iloc[sample_indices], y_train.iloc[sample_indices])\n",
    "        else:\n",
    "            gs.fit(X_train_temp, y_train)\n",
    "            \n",
    "        elapsed = time.time() - start\n",
    "\n",
    "        best = gs.best_estimator_\n",
    "        train_rmse = root_mean_squared_error(y_train, best.predict(X_train_temp))\n",
    "        test_rmse = root_mean_squared_error(y_test, best.predict(X_test_temp))\n",
    "\n",
    "        detailed_results.append(\n",
    "            {\n",
    "                \"family\": family_name,\n",
    "                \"model\": model_name,\n",
    "                \"data_mode\": data_mode,\n",
    "                \"gs_object\": gs,\n",
    "                \"best_estimator\": best,\n",
    "            }\n",
    "        )\n",
    "\n",
    "        results.append(\n",
    "            {\n",
    "                \"family\": family_name,\n",
    "                \"model\": model_name,\n",
    "                \"data_mode\": data_mode,\n",
    "                \"train_rmse\": train_rmse,\n",
    "                \"test_rmse\": test_rmse,\n",
    "                \"time_s\": elapsed,\n",
    "            }\n",
    "        )"
   ]
  },
  {
   "cell_type": "code",
   "execution_count": null,
   "id": "4e1a920c",
   "metadata": {},
   "outputs": [],
   "source": []
  },
  {
   "cell_type": "code",
   "execution_count": 23,
   "id": "e3ad413b",
   "metadata": {},
   "outputs": [
    {
     "data": {
      "application/vnd.jupyter.widget-view+json": {
       "model_id": "f1345b9418b4427fba46ab35152b322c",
       "version_major": 2,
       "version_minor": 0
      },
      "text/plain": [
       "Output()"
      ]
     },
     "metadata": {},
     "output_type": "display_data"
    },
    {
     "data": {
      "text/html": [
       "<pre style=\"white-space:pre;overflow-x:auto;line-height:normal;font-family:Menlo,'DejaVu Sans Mono',consolas,'Courier New',monospace\">Fitting 3 folds for each of 6 candidates, totalling 18 fits\n",
       "</pre>\n"
      ],
      "text/plain": [
       "Fitting 3 folds for each of 6 candidates, totalling 18 fits\n"
      ]
     },
     "metadata": {},
     "output_type": "display_data"
    },
    {
     "name": "stdout",
     "output_type": "stream",
     "text": [
      "Running kernel_models family:\n",
      "\n",
      "Running SVR model:\n",
      "\n"
     ]
    },
    {
     "data": {
      "text/html": [
       "<pre style=\"white-space:pre;overflow-x:auto;line-height:normal;font-family:Menlo,'DejaVu Sans Mono',consolas,'Courier New',monospace\">Fitting 3 folds for each of 6 candidates, totalling 18 fits\n",
       "</pre>\n"
      ],
      "text/plain": [
       "Fitting 3 folds for each of 6 candidates, totalling 18 fits\n"
      ]
     },
     "metadata": {},
     "output_type": "display_data"
    },
    {
     "data": {
      "text/html": [
       "<pre style=\"white-space:pre;overflow-x:auto;line-height:normal;font-family:Menlo,'DejaVu Sans Mono',consolas,'Courier New',monospace\"></pre>\n"
      ],
      "text/plain": []
     },
     "metadata": {},
     "output_type": "display_data"
    },
    {
     "data": {
      "application/vnd.jupyter.widget-view+json": {
       "model_id": "911db4943f14424aa814899d94e7e701",
       "version_major": 2,
       "version_minor": 0
      },
      "text/plain": [
       "Output()"
      ]
     },
     "metadata": {},
     "output_type": "display_data"
    },
    {
     "data": {
      "text/html": [
       "<pre style=\"white-space:pre;overflow-x:auto;line-height:normal;font-family:Menlo,'DejaVu Sans Mono',consolas,'Courier New',monospace\">Fitting 3 folds for each of 12 candidates, totalling 36 fits\n",
       "</pre>\n"
      ],
      "text/plain": [
       "Fitting 3 folds for each of 12 candidates, totalling 36 fits\n"
      ]
     },
     "metadata": {},
     "output_type": "display_data"
    },
    {
     "name": "stdout",
     "output_type": "stream",
     "text": [
      "Running KNeighborsRegressor model:\n",
      "\n"
     ]
    },
    {
     "data": {
      "text/html": [
       "<pre style=\"white-space:pre;overflow-x:auto;line-height:normal;font-family:Menlo,'DejaVu Sans Mono',consolas,'Courier New',monospace\">Fitting 3 folds for each of 12 candidates, totalling 36 fits\n",
       "</pre>\n"
      ],
      "text/plain": [
       "Fitting 3 folds for each of 12 candidates, totalling 36 fits\n"
      ]
     },
     "metadata": {},
     "output_type": "display_data"
    },
    {
     "data": {
      "text/html": [
       "<pre style=\"white-space:pre;overflow-x:auto;line-height:normal;font-family:Menlo,'DejaVu Sans Mono',consolas,'Courier New',monospace\"></pre>\n"
      ],
      "text/plain": []
     },
     "metadata": {},
     "output_type": "display_data"
    }
   ],
   "source": [
    "family_name = \"kernel_models\"\n",
    "print(f\"Running {family_name} family:\\n\")\n",
    "\n",
    "\n",
    "kernel_models = {\n",
    "    \"SVR\": {\n",
    "        \"model\": SVR(),\n",
    "        \"grid\": {\n",
    "            \"kernel\": [\"linear\", \"rbf\"],\n",
    "            \"C\": [0.1, 1.0, 10.0],\n",
    "        },\n",
    "    },\n",
    "    \"KNeighborsRegressor\": {\n",
    "        \"model\": KNeighborsRegressor(),\n",
    "        \"grid\": {\n",
    "            \"n_neighbors\": [3, 5, 10],\n",
    "            \"leaf_size\": [10, 20],\n",
    "            \"weights\": [\"uniform\", \"distance\"],\n",
    "        },\n",
    "    },\n",
    "}\n",
    "\n",
    "for model_name, settings in kernel_models.items():\n",
    "    print(f\"Running {model_name} model:\\n\")\n",
    "    for data_mode, data in track(\n",
    "        data_modes.items(),\n",
    "        description=f\"Running different data modes for {model_name} model:\",\n",
    "    ):\n",
    "        if data_mode == \"all_variables\":\n",
    "            # skipping this combination as it takes too long\n",
    "            continue\n",
    "\n",
    "        size_reduction_factor = 0.1\n",
    "        size_limit = int(len(X_train) * size_reduction_factor)\n",
    "\n",
    "        X_train_temp = data_modes[data_mode][\"X_train\"]\n",
    "        X_test_temp = data_modes[data_mode][\"X_test\"]\n",
    "\n",
    "        model = settings[\"model\"]\n",
    "        param_grid = settings[\"grid\"]\n",
    "        gs = GridSearchCV(\n",
    "            estimator=model,\n",
    "            param_grid=param_grid,\n",
    "            scoring=\"neg_root_mean_squared_error\",\n",
    "            cv=3,\n",
    "            n_jobs=-1,\n",
    "            verbose=10,\n",
    "        )\n",
    "\n",
    "        start = time.time()\n",
    "        if model_name == \"SVR\":\n",
    "            # SVR is slow, so we limit the size of the training set\n",
    "            ratio = 0.4\n",
    "            full_len = len(X_train_temp)\n",
    "            sample_size = int(ratio * full_len)\n",
    "            sample_indices = np.random.choice(full_len, size=sample_size, replace=False)\n",
    "            if data_mode == \"pca\":\n",
    "                gs.fit(X_train_temp[sample_indices], y_train[sample_indices])\n",
    "            else:\n",
    "                gs.fit(X_train_temp.iloc[sample_indices], y_train.iloc[sample_indices])\n",
    "        else:\n",
    "            gs.fit(X_train_temp, y_train)\n",
    "        elapsed = time.time() - start\n",
    "\n",
    "        best = gs.best_estimator_\n",
    "        train_rmse = root_mean_squared_error(y_train, best.predict(X_train_temp))\n",
    "        test_rmse = root_mean_squared_error(y_test, best.predict(X_test_temp))\n",
    "\n",
    "        detailed_results.append(\n",
    "            {\n",
    "                \"family\": family_name,\n",
    "                \"model\": model_name,\n",
    "                \"data_mode\": data_mode,\n",
    "                \"gs_object\": gs,\n",
    "                \"best_estimator\": best,\n",
    "            }\n",
    "        )\n",
    "\n",
    "        results.append(\n",
    "            {\n",
    "                \"family\": family_name,\n",
    "                \"model\": model_name,\n",
    "                \"data_mode\": data_mode,\n",
    "                \"train_rmse\": train_rmse,\n",
    "                \"test_rmse\": test_rmse,\n",
    "                \"time_s\": elapsed,\n",
    "            }\n",
    "        )"
   ]
  },
  {
   "cell_type": "code",
   "execution_count": null,
   "id": "6cb32190",
   "metadata": {},
   "outputs": [],
   "source": [
    "family_name = \"neural_networks\"\n",
    "print(f\"Running {family_name} family:\\n\")\n",
    "\n",
    "neural_networks = {\n",
    "    \"MLPRegressor\": {\n",
    "        \"model\": MLPRegressor(max_iter=100, random_state=2025),\n",
    "        \"grid\": {\n",
    "            \"hidden_layer_sizes\": [\n",
    "                (10,),\n",
    "                (50,),\n",
    "                (\n",
    "                    20,\n",
    "                    20,\n",
    "                    20,\n",
    "                    20,\n",
    "                ),\n",
    "                (\n",
    "                    50,\n",
    "                    50,\n",
    "                ),\n",
    "            ],\n",
    "            \"learning_rate\" : [\"constant\", \"adaptive\"],\n",
    "        },\n",
    "    },\n",
    "}\n",
    "\n",
    "for model_name, settings in neural_networks.items():\n",
    "    print(f\"Running {model_name} model:\\n\")\n",
    "    for data_mode, data in track(\n",
    "        data_modes.items(), description=f\"data mode {data_mode}\"\n",
    "    ):\n",
    "\n",
    "        X_train_temp = data_modes[data_mode][\"X_train\"]\n",
    "        X_test_temp = data_modes[data_mode][\"X_test\"]\n",
    "\n",
    "        model = settings[\"model\"]\n",
    "        param_grid = settings[\"grid\"]\n",
    "        gs = GridSearchCV(\n",
    "            estimator=model,\n",
    "            param_grid=param_grid,\n",
    "            scoring=\"neg_root_mean_squared_error\",\n",
    "            cv=3,\n",
    "            n_jobs=-1,\n",
    "            verbose=10,\n",
    "        )\n",
    "\n",
    "        start = time.time()\n",
    "        gs.fit(X_train_temp, y_train)\n",
    "        elapsed = time.time() - start\n",
    "\n",
    "        best = gs.best_estimator_\n",
    "        train_rmse = root_mean_squared_error(y_train, best.predict(X_train_temp))\n",
    "        test_rmse = root_mean_squared_error(y_test, best.predict(X_test_temp))\n",
    "\n",
    "        detailed_results.append(\n",
    "            {\n",
    "                \"family\": family_name,\n",
    "                \"model\": model_name,\n",
    "                \"data_mode\": data_mode,\n",
    "                \"gs_object\": gs,\n",
    "                \"best_estimator\": best,\n",
    "            }\n",
    "        )\n",
    "\n",
    "        results.append(\n",
    "            {\n",
    "                \"family\": family_name,\n",
    "                \"model\": model_name,\n",
    "                \"data_mode\": data_mode,\n",
    "                \"train_rmse\": train_rmse,\n",
    "                \"test_rmse\": test_rmse,\n",
    "                \"time_s\": elapsed,\n",
    "            }\n",
    "        )"
   ]
  },
  {
   "cell_type": "code",
   "execution_count": 25,
   "id": "985b4e33",
   "metadata": {},
   "outputs": [],
   "source": [
    "df_res = pd.DataFrame(results)\n",
    "df_res.to_csv(\"../data/model_comparison.csv\", index=False)"
   ]
  },
  {
   "cell_type": "code",
   "execution_count": 30,
   "id": "6554e686",
   "metadata": {},
   "outputs": [],
   "source": [
    "# sorting the results by test RMSE\n",
    "df_res = df_res.sort_values(by=\"test_rmse\", ascending=True)"
   ]
  },
  {
   "cell_type": "code",
   "execution_count": null,
   "id": "dc56bfd6",
   "metadata": {},
   "outputs": [
    {
     "data": {
      "application/vnd.microsoft.datawrangler.viewer.v0+json": {
       "columns": [
        {
         "name": "index",
         "rawType": "int64",
         "type": "integer"
        },
        {
         "name": "family",
         "rawType": "object",
         "type": "string"
        },
        {
         "name": "model",
         "rawType": "object",
         "type": "string"
        },
        {
         "name": "data_mode",
         "rawType": "object",
         "type": "string"
        },
        {
         "name": "train_rmse",
         "rawType": "float64",
         "type": "float"
        },
        {
         "name": "test_rmse",
         "rawType": "float64",
         "type": "float"
        },
        {
         "name": "time_s",
         "rawType": "float64",
         "type": "float"
        }
       ],
       "conversionMethod": "pd.DataFrame",
       "ref": "19bf40a6-818f-47cc-84a6-32ec6b1f2e55",
       "rows": [
        [
         "17",
         "neural_networks",
         "MLPRegressor",
         "all_variables",
         "0.12370827952924898",
         "0.1265451382195888",
         "195.48971915245056"
        ],
        [
         "6",
         "tree_models",
         "RandomForestRegressor",
         "all_variables",
         "1.4107951385062503",
         "1.479448639616258",
         "94.4244635105133"
        ],
        [
         "9",
         "tree_models",
         "XGBRegressor",
         "all_variables",
         "1.7802340904986538",
         "1.8160189096577422",
         "5.967922925949097"
        ],
        [
         "3",
         "linear_models",
         "Ridge",
         "all_variables",
         "14.736521112406532",
         "14.771521916318298",
         "1.667020559310913"
        ],
        [
         "0",
         "linear_models",
         "LinearRegression",
         "all_variables",
         "14.735356598468064",
         "14.775408617349637",
         "2.6377341747283936"
        ],
        [
         "19",
         "neural_networks",
         "MLPRegressor",
         "pca",
         "14.863145599681957",
         "14.931972162263211",
         "44.70361018180847"
        ],
        [
         "18",
         "neural_networks",
         "MLPRegressor",
         "top_vars",
         "14.931038494356772",
         "14.991606823204034",
         "61.920154094696045"
        ],
        [
         "10",
         "tree_models",
         "XGBRegressor",
         "top_vars",
         "14.89413232285467",
         "15.108827879114694",
         "2.1200642585754395"
        ],
        [
         "1",
         "linear_models",
         "LinearRegression",
         "top_vars",
         "15.107728908312488",
         "15.131399428793346",
         "1.1773536205291748"
        ],
        [
         "4",
         "linear_models",
         "Ridge",
         "top_vars",
         "15.107734110136578",
         "15.131420219268655",
         "0.25681161880493164"
        ],
        [
         "11",
         "tree_models",
         "XGBRegressor",
         "pca",
         "14.862849463286812",
         "15.273381417995294",
         "1.7988159656524658"
        ],
        [
         "7",
         "tree_models",
         "RandomForestRegressor",
         "top_vars",
         "15.265716101014242",
         "15.328123975577721",
         "28.715057611465454"
        ],
        [
         "5",
         "linear_models",
         "Ridge",
         "pca",
         "15.608579253324347",
         "15.616331151824236",
         "0.2287309169769287"
        ],
        [
         "2",
         "linear_models",
         "LinearRegression",
         "pca",
         "15.608579250786482",
         "15.616331982135147",
         "1.1120657920837402"
        ],
        [
         "8",
         "tree_models",
         "RandomForestRegressor",
         "pca",
         "15.684645717071886",
         "15.749449556173053",
         "76.7047610282898"
        ],
        [
         "12",
         "kernel_models",
         "SVR",
         "top_vars",
         "15.781788421447464",
         "15.845765824535208",
         "300.9683940410614"
        ],
        [
         "16",
         "kernel_models",
         "KNeighborsRegressor",
         "pca",
         "14.650210313045402",
         "16.114643011808454",
         "48.695236682891846"
        ],
        [
         "15",
         "kernel_models",
         "KNeighborsRegressor",
         "top_vars",
         "14.740382897799604",
         "16.23294295567145",
         "54.240744829177856"
        ],
        [
         "13",
         "kernel_models",
         "SVR",
         "top_vars",
         "16.24709470034148",
         "16.383943529926256",
         "230.72715044021606"
        ],
        [
         "14",
         "kernel_models",
         "SVR",
         "pca",
         "16.677362497658553",
         "16.71280074336869",
         "251.06064319610596"
        ]
       ],
       "shape": {
        "columns": 6,
        "rows": 20
       }
      },
      "text/html": [
       "<div>\n",
       "<style scoped>\n",
       "    .dataframe tbody tr th:only-of-type {\n",
       "        vertical-align: middle;\n",
       "    }\n",
       "\n",
       "    .dataframe tbody tr th {\n",
       "        vertical-align: top;\n",
       "    }\n",
       "\n",
       "    .dataframe thead th {\n",
       "        text-align: right;\n",
       "    }\n",
       "</style>\n",
       "<table border=\"1\" class=\"dataframe\">\n",
       "  <thead>\n",
       "    <tr style=\"text-align: right;\">\n",
       "      <th></th>\n",
       "      <th>family</th>\n",
       "      <th>model</th>\n",
       "      <th>data_mode</th>\n",
       "      <th>train_rmse</th>\n",
       "      <th>test_rmse</th>\n",
       "      <th>time_s</th>\n",
       "    </tr>\n",
       "  </thead>\n",
       "  <tbody>\n",
       "    <tr>\n",
       "      <th>17</th>\n",
       "      <td>neural_networks</td>\n",
       "      <td>MLPRegressor</td>\n",
       "      <td>all_variables</td>\n",
       "      <td>0.123708</td>\n",
       "      <td>0.126545</td>\n",
       "      <td>195.489719</td>\n",
       "    </tr>\n",
       "    <tr>\n",
       "      <th>6</th>\n",
       "      <td>tree_models</td>\n",
       "      <td>RandomForestRegressor</td>\n",
       "      <td>all_variables</td>\n",
       "      <td>1.410795</td>\n",
       "      <td>1.479449</td>\n",
       "      <td>94.424464</td>\n",
       "    </tr>\n",
       "    <tr>\n",
       "      <th>9</th>\n",
       "      <td>tree_models</td>\n",
       "      <td>XGBRegressor</td>\n",
       "      <td>all_variables</td>\n",
       "      <td>1.780234</td>\n",
       "      <td>1.816019</td>\n",
       "      <td>5.967923</td>\n",
       "    </tr>\n",
       "    <tr>\n",
       "      <th>3</th>\n",
       "      <td>linear_models</td>\n",
       "      <td>Ridge</td>\n",
       "      <td>all_variables</td>\n",
       "      <td>14.736521</td>\n",
       "      <td>14.771522</td>\n",
       "      <td>1.667021</td>\n",
       "    </tr>\n",
       "    <tr>\n",
       "      <th>0</th>\n",
       "      <td>linear_models</td>\n",
       "      <td>LinearRegression</td>\n",
       "      <td>all_variables</td>\n",
       "      <td>14.735357</td>\n",
       "      <td>14.775409</td>\n",
       "      <td>2.637734</td>\n",
       "    </tr>\n",
       "    <tr>\n",
       "      <th>19</th>\n",
       "      <td>neural_networks</td>\n",
       "      <td>MLPRegressor</td>\n",
       "      <td>pca</td>\n",
       "      <td>14.863146</td>\n",
       "      <td>14.931972</td>\n",
       "      <td>44.703610</td>\n",
       "    </tr>\n",
       "    <tr>\n",
       "      <th>18</th>\n",
       "      <td>neural_networks</td>\n",
       "      <td>MLPRegressor</td>\n",
       "      <td>top_vars</td>\n",
       "      <td>14.931038</td>\n",
       "      <td>14.991607</td>\n",
       "      <td>61.920154</td>\n",
       "    </tr>\n",
       "    <tr>\n",
       "      <th>10</th>\n",
       "      <td>tree_models</td>\n",
       "      <td>XGBRegressor</td>\n",
       "      <td>top_vars</td>\n",
       "      <td>14.894132</td>\n",
       "      <td>15.108828</td>\n",
       "      <td>2.120064</td>\n",
       "    </tr>\n",
       "    <tr>\n",
       "      <th>1</th>\n",
       "      <td>linear_models</td>\n",
       "      <td>LinearRegression</td>\n",
       "      <td>top_vars</td>\n",
       "      <td>15.107729</td>\n",
       "      <td>15.131399</td>\n",
       "      <td>1.177354</td>\n",
       "    </tr>\n",
       "    <tr>\n",
       "      <th>4</th>\n",
       "      <td>linear_models</td>\n",
       "      <td>Ridge</td>\n",
       "      <td>top_vars</td>\n",
       "      <td>15.107734</td>\n",
       "      <td>15.131420</td>\n",
       "      <td>0.256812</td>\n",
       "    </tr>\n",
       "    <tr>\n",
       "      <th>11</th>\n",
       "      <td>tree_models</td>\n",
       "      <td>XGBRegressor</td>\n",
       "      <td>pca</td>\n",
       "      <td>14.862849</td>\n",
       "      <td>15.273381</td>\n",
       "      <td>1.798816</td>\n",
       "    </tr>\n",
       "    <tr>\n",
       "      <th>7</th>\n",
       "      <td>tree_models</td>\n",
       "      <td>RandomForestRegressor</td>\n",
       "      <td>top_vars</td>\n",
       "      <td>15.265716</td>\n",
       "      <td>15.328124</td>\n",
       "      <td>28.715058</td>\n",
       "    </tr>\n",
       "    <tr>\n",
       "      <th>5</th>\n",
       "      <td>linear_models</td>\n",
       "      <td>Ridge</td>\n",
       "      <td>pca</td>\n",
       "      <td>15.608579</td>\n",
       "      <td>15.616331</td>\n",
       "      <td>0.228731</td>\n",
       "    </tr>\n",
       "    <tr>\n",
       "      <th>2</th>\n",
       "      <td>linear_models</td>\n",
       "      <td>LinearRegression</td>\n",
       "      <td>pca</td>\n",
       "      <td>15.608579</td>\n",
       "      <td>15.616332</td>\n",
       "      <td>1.112066</td>\n",
       "    </tr>\n",
       "    <tr>\n",
       "      <th>8</th>\n",
       "      <td>tree_models</td>\n",
       "      <td>RandomForestRegressor</td>\n",
       "      <td>pca</td>\n",
       "      <td>15.684646</td>\n",
       "      <td>15.749450</td>\n",
       "      <td>76.704761</td>\n",
       "    </tr>\n",
       "    <tr>\n",
       "      <th>12</th>\n",
       "      <td>kernel_models</td>\n",
       "      <td>SVR</td>\n",
       "      <td>top_vars</td>\n",
       "      <td>15.781788</td>\n",
       "      <td>15.845766</td>\n",
       "      <td>300.968394</td>\n",
       "    </tr>\n",
       "    <tr>\n",
       "      <th>16</th>\n",
       "      <td>kernel_models</td>\n",
       "      <td>KNeighborsRegressor</td>\n",
       "      <td>pca</td>\n",
       "      <td>14.650210</td>\n",
       "      <td>16.114643</td>\n",
       "      <td>48.695237</td>\n",
       "    </tr>\n",
       "    <tr>\n",
       "      <th>15</th>\n",
       "      <td>kernel_models</td>\n",
       "      <td>KNeighborsRegressor</td>\n",
       "      <td>top_vars</td>\n",
       "      <td>14.740383</td>\n",
       "      <td>16.232943</td>\n",
       "      <td>54.240745</td>\n",
       "    </tr>\n",
       "    <tr>\n",
       "      <th>13</th>\n",
       "      <td>kernel_models</td>\n",
       "      <td>SVR</td>\n",
       "      <td>top_vars</td>\n",
       "      <td>16.247095</td>\n",
       "      <td>16.383944</td>\n",
       "      <td>230.727150</td>\n",
       "    </tr>\n",
       "    <tr>\n",
       "      <th>14</th>\n",
       "      <td>kernel_models</td>\n",
       "      <td>SVR</td>\n",
       "      <td>pca</td>\n",
       "      <td>16.677362</td>\n",
       "      <td>16.712801</td>\n",
       "      <td>251.060643</td>\n",
       "    </tr>\n",
       "  </tbody>\n",
       "</table>\n",
       "</div>"
      ],
      "text/plain": [
       "             family                  model      data_mode  train_rmse  \\\n",
       "17  neural_networks           MLPRegressor  all_variables    0.123708   \n",
       "6       tree_models  RandomForestRegressor  all_variables    1.410795   \n",
       "9       tree_models           XGBRegressor  all_variables    1.780234   \n",
       "3     linear_models                  Ridge  all_variables   14.736521   \n",
       "0     linear_models       LinearRegression  all_variables   14.735357   \n",
       "19  neural_networks           MLPRegressor            pca   14.863146   \n",
       "18  neural_networks           MLPRegressor       top_vars   14.931038   \n",
       "10      tree_models           XGBRegressor       top_vars   14.894132   \n",
       "1     linear_models       LinearRegression       top_vars   15.107729   \n",
       "4     linear_models                  Ridge       top_vars   15.107734   \n",
       "11      tree_models           XGBRegressor            pca   14.862849   \n",
       "7       tree_models  RandomForestRegressor       top_vars   15.265716   \n",
       "5     linear_models                  Ridge            pca   15.608579   \n",
       "2     linear_models       LinearRegression            pca   15.608579   \n",
       "8       tree_models  RandomForestRegressor            pca   15.684646   \n",
       "12    kernel_models                    SVR       top_vars   15.781788   \n",
       "16    kernel_models    KNeighborsRegressor            pca   14.650210   \n",
       "15    kernel_models    KNeighborsRegressor       top_vars   14.740383   \n",
       "13    kernel_models                    SVR       top_vars   16.247095   \n",
       "14    kernel_models                    SVR            pca   16.677362   \n",
       "\n",
       "    test_rmse      time_s  \n",
       "17   0.126545  195.489719  \n",
       "6    1.479449   94.424464  \n",
       "9    1.816019    5.967923  \n",
       "3   14.771522    1.667021  \n",
       "0   14.775409    2.637734  \n",
       "19  14.931972   44.703610  \n",
       "18  14.991607   61.920154  \n",
       "10  15.108828    2.120064  \n",
       "1   15.131399    1.177354  \n",
       "4   15.131420    0.256812  \n",
       "11  15.273381    1.798816  \n",
       "7   15.328124   28.715058  \n",
       "5   15.616331    0.228731  \n",
       "2   15.616332    1.112066  \n",
       "8   15.749450   76.704761  \n",
       "12  15.845766  300.968394  \n",
       "16  16.114643   48.695237  \n",
       "15  16.232943   54.240745  \n",
       "13  16.383944  230.727150  \n",
       "14  16.712801  251.060643  "
      ]
     },
     "execution_count": 46,
     "metadata": {},
     "output_type": "execute_result"
    }
   ],
   "source": [
    "res"
   ]
  },
  {
   "cell_type": "code",
   "execution_count": 31,
   "id": "4b475497",
   "metadata": {},
   "outputs": [
    {
     "data": {
      "image/png": "[encoded data removed]",
      "text/plain": [
       "<Figure size 1200x600 with 1 Axes>"
      ]
     },
     "metadata": {},
     "output_type": "display_data"
    }
   ],
   "source": [
    "plt.figure(figsize=(12, 6))\n",
    "labels = df_res[\"model\"] + \"\\n\" + df_res[\"data_mode\"]\n",
    "plt.bar(x=np.arange(len(df_res)), height=df_res[\"test_rmse\"], tick_label=labels)\n",
    "plt.xticks(rotation=45, ha=\"right\")\n",
    "plt.ylabel(\"Test RMSE\")\n",
    "plt.title(\"Model + Selector Comparison\")\n",
    "plt.tight_layout()\n",
    "plt.show()"
   ]
  },
  {
   "cell_type": "code",
   "execution_count": null,
   "id": "b1de201b",
   "metadata": {},
   "outputs": [],
   "source": []
  },
  {
   "cell_type": "code",
   "execution_count": null,
   "id": "e2d05e71",
   "metadata": {},
   "outputs": [],
   "source": []
  }
 ],
 "metadata": {
  "kernelspec": {
   "display_name": "bmo_ds",
   "language": "python",
   "name": "python3"
  },
  "language_info": {
   "codemirror_mode": {
    "name": "ipython",
    "version": 3
   },
   "file_extension": ".py",
   "mimetype": "text/x-python",
   "name": "python",
   "nbconvert_exporter": "python",
   "pygments_lexer": "ipython3",
   "version": "3.10.16"
  }
 },
 "nbformat": 4,
 "nbformat_minor": 5
}
